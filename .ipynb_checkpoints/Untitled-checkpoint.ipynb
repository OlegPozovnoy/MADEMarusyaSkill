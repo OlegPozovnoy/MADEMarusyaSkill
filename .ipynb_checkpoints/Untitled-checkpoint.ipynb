{
 "cells": [
  {
   "cell_type": "code",
   "execution_count": 48,
   "metadata": {},
   "outputs": [],
   "source": [
    "import requests\n",
    "import random\n",
    "\n",
    "ingridients = ['cheese', 'chicken']\n",
    "api = 'c33730840a6646838c109af0004451ff'\n",
    "\n",
    "def get_recepy(ingridients, api):\n",
    "    ingr_query = \",+\".join(ingridients)[2:]\n",
    "\n",
    "    uri = 'https://api.spoonacular.com/recipes/findByIngredients?ingredients='+ingr_query+'&number=100&ranking=2&apiKey=' + str(api)\n",
    "    result = requests.get(uri)\n",
    "    s = random.choice(result.json())\n",
    "    print(s)\n",
    "    id = s.get('id',0)\n",
    "    title = s.get('title','')\n",
    "    rating = s.get('likes',0)\n",
    "\n",
    "    uri = 'https://api.spoonacular.com/recipes/'+str(id)+'/information?includeNutrition=false&apiKey=' + str(api)\n",
    "\n",
    "    result = requests.get(uri)\n",
    "    final = result.json()\n",
    "    instruction = final.get('instructions','')\n",
    "    mins = final.get('cookingMinutes', -1)\n",
    "    return title, rating, instruction, mins\n",
    "\n",
    "print(get_recepy(ingridients, api))"
   ]
  },
  {
   "cell_type": "code",
   "execution_count": null,
   "metadata": {},
   "outputs": [],
   "source": []
  },
  {
   "cell_type": "code",
   "execution_count": 11,
   "metadata": {},
   "outputs": [
    {
     "name": "stdout",
     "output_type": "stream",
     "text": [
      "Collecting fuzzywuzzy\n",
      "  Downloading fuzzywuzzy-0.18.0-py2.py3-none-any.whl (18 kB)\n",
      "Installing collected packages: fuzzywuzzy\n",
      "Successfully installed fuzzywuzzy-0.18.0\n"
     ]
    }
   ],
   "source": [
    "!pip install fuzzywuzzy"
   ]
  },
  {
   "cell_type": "code",
   "execution_count": null,
   "metadata": {},
   "outputs": [],
   "source": []
  }
 ],
 "metadata": {
  "kernelspec": {
   "display_name": "Python 3",
   "language": "python",
   "name": "python3"
  },
  "language_info": {
   "codemirror_mode": {
    "name": "ipython",
    "version": 3
   },
   "file_extension": ".py",
   "mimetype": "text/x-python",
   "name": "python",
   "nbconvert_exporter": "python",
   "pygments_lexer": "ipython3",
   "version": "3.8.3"
  }
 },
 "nbformat": 4,
 "nbformat_minor": 4
}
